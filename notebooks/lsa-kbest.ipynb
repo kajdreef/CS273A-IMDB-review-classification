{
 "cells": [
  {
   "cell_type": "code",
   "execution_count": 1,
   "metadata": {},
   "outputs": [],
   "source": [
    "%load_ext autoreload\n",
    "%autoreload 2\n",
    "%load_ext autotime"
   ]
  },
  {
   "cell_type": "code",
   "execution_count": 6,
   "metadata": {},
   "outputs": [
    {
     "name": "stdout",
     "output_type": "stream",
     "text": [
      "time: 2.35 ms\n"
     ]
    }
   ],
   "source": [
    "import sys\n",
    "sys.path.append('../src')\n",
    "from main import load_data\n",
    "from preprocessing import clean_text, remove_stop_words, negation_handling, lemmatizing, emoji_tagging\n",
    "from features_extractor import Extractor, extract_tf, extract_tf_idf, extract_sentiment\n",
    "\n",
    "from sklearn.pipeline import make_pipeline\n",
    "from sklearn.preprocessing import Normalizer\n",
    "from sklearn.decomposition import TruncatedSVD\n",
    "from sklearn.feature_selection import SelectKBest, chi2\n",
    "\n",
    "from sklearn.linear_model import LogisticRegression\n",
    "from sklearn.metrics import f1_score, precision_score, recall_score\n",
    "from util import curry, load_features_from_file\n",
    "from pprint import pprint\n",
    "\n",
    "import matplotlib.pyplot as plt\n",
    "import copy"
   ]
  },
  {
   "cell_type": "code",
   "execution_count": 3,
   "metadata": {},
   "outputs": [
    {
     "name": "stdout",
     "output_type": "stream",
     "text": [
      "Load Data...\n",
      "Done loading data!\n",
      "\n",
      "time: 24.2 s\n"
     ]
    }
   ],
   "source": [
    "Xtr_text, Ytr, Xte_text, Yte = load_data('../aclImdb/train/', '../aclImdb/test/')"
   ]
  },
  {
   "cell_type": "code",
   "execution_count": 20,
   "metadata": {},
   "outputs": [
    {
     "name": "stdout",
     "output_type": "stream",
     "text": [
      "time: 2.28 ms\n"
     ]
    }
   ],
   "source": [
    "ngram_range = (1,1)\n",
    "min_df=2\n",
    "max_df=0.5\n",
    "n_features=10000"
   ]
  },
  {
   "cell_type": "code",
   "execution_count": 21,
   "metadata": {},
   "outputs": [
    {
     "name": "stdout",
     "output_type": "stream",
     "text": [
      "time: 7min 51s\n"
     ]
    }
   ],
   "source": [
    "Xtr, Xte = Extractor(Xtr_text, Xte_text)\\\n",
    "        .bind(curry(emoji_tagging))\\\n",
    "        .bind(curry(remove_stop_words))\\\n",
    "        .bind(curry(lemmatizing))\\\n",
    "        .bind(curry(negation_handling))\\\n",
    "        .bind(curry(clean_text))\\\n",
    "        .bind(extract_tf(ngram_range=ngram_range, min_df=min_df,max_df=max_df))\\\n",
    "        .bind(extract_tf_idf)\\\n",
    "        .get_features()"
   ]
  },
  {
   "cell_type": "code",
   "execution_count": 22,
   "metadata": {},
   "outputs": [
    {
     "name": "stdout",
     "output_type": "stream",
     "text": [
      "time: 2.78 ms\n"
     ]
    }
   ],
   "source": [
    "def lsa(Xtr, Xte, n_components):\n",
    "    svd = TruncatedSVD(n_components)\n",
    "    lsa = make_pipeline(svd, Normalizer(copy=False))\n",
    "\n",
    "    lsa.fit(Xtr)\n",
    "    Xtr_lsa = lsa.transform(Xtr)\n",
    "    Xte_lsa = lsa.transform(Xte)\n",
    "\n",
    "    return Xtr_lsa, Xte_lsa\n",
    "    \n",
    "def k_best(Xtr, Ytr, Xte, Yte, k_best):\n",
    "    Select = SelectKBest(chi2, k=k_best).fit(Xtr, Ytr)\n",
    "    XtrS = Select.transform(Xtr)\n",
    "    XteS = Select.transform(Xte)\n",
    "    \n",
    "    return XtrS, XteS\n",
    "\n",
    "def run_classifier(Xtr, Ytr, Xte, Yte):\n",
    "    classifier = LogisticRegression(solver='lbfgs')\n",
    "    classifier.fit(Xtr, Ytr)\n",
    "    Yte_hat = classifier.predict(Xte)\n",
    "\n",
    "    f1 = f1_score(Yte, Yte_hat)\n",
    "    p = precision_score(Yte, Yte_hat)\n",
    "    r = recall_score(Yte, Yte_hat)\n",
    "    return [f1, p, r]"
   ]
  },
  {
   "cell_type": "code",
   "execution_count": 24,
   "metadata": {},
   "outputs": [
    {
     "name": "stdout",
     "output_type": "stream",
     "text": [
      "1\n"
     ]
    },
    {
     "name": "stderr",
     "output_type": "stream",
     "text": [
      "/usr/local/lib/python3.7/site-packages/sklearn/metrics/classification.py:1143: UndefinedMetricWarning: F-score is ill-defined and being set to 0.0 due to no predicted samples.\n",
      "  'precision', 'predicted', average, warn_for)\n",
      "/usr/local/lib/python3.7/site-packages/sklearn/metrics/classification.py:1143: UndefinedMetricWarning: Precision is ill-defined and being set to 0.0 due to no predicted samples.\n",
      "  'precision', 'predicted', average, warn_for)\n"
     ]
    },
    {
     "name": "stdout",
     "output_type": "stream",
     "text": [
      "10\n",
      "100\n",
      "1000\n",
      "time: 1min 33s\n"
     ]
    }
   ],
   "source": [
    "n_features = [1, 10, 100, 1000]\n",
    "labels = [\"LSA\", \"K-Best\"]\n",
    "f1_scores_k = []\n",
    "p_scores_k = []\n",
    "r_scores_k  = []\n",
    "\n",
    "f1_scores_lsa = []\n",
    "p_scores_lsa = []\n",
    "r_scores_lsa  = []\n",
    "\n",
    "for k in n_features:\n",
    "    print(k)\n",
    "    Xtr_k, Xte_k = k_best(Xtr, Ytr, Xte, Yte, k)\n",
    "    Xtr_lsa, Xte_lsa = lsa(Xtr, Xte, k)\n",
    "\n",
    "    scores_k = run_classifier(Xtr_k, Ytr, Xte_k, Yte)\n",
    "    scores_lsa = run_classifier(Xtr_lsa, Ytr, Xte_lsa, Yte)\n",
    "\n",
    "    f1_scores_k.append(scores_k[0])\n",
    "    p_scores_k.append(scores_k[1])\n",
    "    r_scores_k.append(scores_k[2])\n",
    "\n",
    "    f1_scores_lsa.append(scores_lsa[0])\n",
    "    p_scores_lsa.append(scores_lsa[1])\n",
    "    r_scores_lsa.append(scores_lsa[2])\n"
   ]
  },
  {
   "cell_type": "code",
   "execution_count": null,
   "metadata": {},
   "outputs": [
    {
     "name": "stdout",
     "output_type": "stream",
     "text": [
      "start best k\n",
      "start lsa\n"
     ]
    }
   ],
   "source": [
    "print(\"start best k\")\n",
    "Xtr_k, Xte_k = k_best(Xtr, Ytr, Xte, Yte, 10000)\n",
    "print(\"start lsa\")\n",
    "Xtr_lsa, Xte_lsa = lsa(Xtr, Xte, 10000)\n",
    "\n",
    "scores_k = run_classifier(Xtr_k, Ytr, Xte_k, Yte)\n",
    "scores_lsa = run_classifier(Xtr_lsa, Ytr, Xte_lsa, Yte)\n",
    "\n",
    "f1_scores_k.append(scores_k[0])\n",
    "p_scores_k.append(scores_k[1])\n",
    "r_scores_k.append(scores_k[2])\n",
    "\n",
    "f1_scores_lsa.append(scores_lsa[0])\n",
    "p_scores_lsa.append(scores_lsa[1])\n",
    "r_scores_lsa.append(scores_lsa[2])"
   ]
  },
  {
   "cell_type": "code",
   "execution_count": 26,
   "metadata": {},
   "outputs": [
    {
     "data": {
      "image/png": "[encoded data removed]",
      "text/plain": [
       "<matplotlib.figure.Figure at 0x12961ae48>"
      ]
     },
     "metadata": {},
     "output_type": "display_data"
    },
    {
     "data": {
      "image/png": "[encoded data removed]",
      "text/plain": [
       "<matplotlib.figure.Figure at 0x11dc500b8>"
      ]
     },
     "metadata": {},
     "output_type": "display_data"
    },
    {
     "data": {
      "image/png": "[encoded data removed]",
      "text/plain": [
       "<matplotlib.figure.Figure at 0x129735860>"
      ]
     },
     "metadata": {},
     "output_type": "display_data"
    },
    {
     "name": "stdout",
     "output_type": "stream",
     "text": [
      "time: 1.75 s\n"
     ]
    }
   ],
   "source": [
    "plt.semilogx(n_features, f1_scores_lsa)\n",
    "plt.semilogx(n_features, f1_scores_k)\n",
    "plt.title(\"LSA - K-Best: F-1 score for best k features\")\n",
    "plt.legend(labels)\n",
    "plt.xlabel(\"k\")\n",
    "plt.savefig('f1-score-lsa-k.png', bbox_inches='tight')\n",
    "plt.show()\n",
    "    \n",
    "    \n",
    "plt.semilogx(n_features, p_scores_lsa)\n",
    "plt.semilogx(n_features, p_scores_k)\n",
    "plt.title(\"LSA - K-Best: Precision score for best k features\")\n",
    "plt.legend(labels)\n",
    "plt.xlabel(\"k\")\n",
    "plt.savefig('p-score-lsa-k.png', bbox_inches='tight')\n",
    "plt.show()\n",
    "\n",
    "plt.semilogx(n_features, r_scores_lsa)\n",
    "plt.semilogx(n_features, r_scores_k)\n",
    "plt.title(\"LSA - K-Best: Recall score for best k features\")\n",
    "plt.legend(labels)\n",
    "plt.xlabel(\"k\")\n",
    "plt.savefig('r-score-lsa-k.png', bbox_inches='tight')\n",
    "plt.show()"
   ]
  },
  {
   "cell_type": "code",
   "execution_count": null,
   "metadata": {},
   "outputs": [],
   "source": []
  }
 ],
 "metadata": {
  "kernelspec": {
   "display_name": "Python 3",
   "language": "python",
   "name": "python3"
  },
  "language_info": {
   "codemirror_mode": {
    "name": "ipython",
    "version": 3
   },
   "file_extension": ".py",
   "mimetype": "text/x-python",
   "name": "python",
   "nbconvert_exporter": "python",
   "pygments_lexer": "ipython3",
   "version": "3.7.1"
  }
 },
 "nbformat": 4,
 "nbformat_minor": 2
}
