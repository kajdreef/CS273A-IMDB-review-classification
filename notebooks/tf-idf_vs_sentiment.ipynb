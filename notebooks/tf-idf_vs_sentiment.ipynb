{
 "cells": [
  {
   "cell_type": "code",
   "execution_count": 1,
   "metadata": {},
   "outputs": [],
   "source": [
    "%load_ext autoreload\n",
    "%autoreload 2\n",
    "%load_ext autotime"
   ]
  },
  {
   "cell_type": "code",
   "execution_count": 45,
   "metadata": {},
   "outputs": [
    {
     "name": "stdout",
     "output_type": "stream",
     "text": [
      "time: 4.53 ms\n"
     ]
    }
   ],
   "source": [
    "import sys\n",
    "sys.path.append('../src')\n",
    "from main import load_data\n",
    "from preprocessing import clean_text, remove_stop_words, negation_handling, lemmatizing, emoji_tagging\n",
    "from features_extractor import Extractor, extract_tf, extract_tf_idf, extract_sentiment\n",
    "from feature_selection import k_best\n",
    "from sklearn.linear_model import LogisticRegression\n",
    "from sklearn.metrics import f1_score, precision_score, recall_score\n",
    "from util import curry\n",
    "from pprint import pprint\n",
    "\n",
    "import matplotlib.pyplot as plt\n",
    "import copy"
   ]
  },
  {
   "cell_type": "code",
   "execution_count": 19,
   "metadata": {},
   "outputs": [
    {
     "name": "stdout",
     "output_type": "stream",
     "text": [
      "Load Data...\n",
      "Done loading data!\n",
      "\n",
      "time: 19.3 s\n"
     ]
    }
   ],
   "source": [
    "Xtr_text, Ytr, Xte_text, Yte = load_data('../aclImdb/train/', '../aclImdb/test/')"
   ]
  },
  {
   "cell_type": "code",
   "execution_count": 33,
   "metadata": {},
   "outputs": [
    {
     "name": "stdout",
     "output_type": "stream",
     "text": [
      "time: 1.26 ms\n"
     ]
    }
   ],
   "source": [
    "ngram_range = (1,1)\n",
    "min_df=2\n",
    "max_df=0.5\n",
    "n_features=10000"
   ]
  },
  {
   "cell_type": "code",
   "execution_count": 34,
   "metadata": {},
   "outputs": [
    {
     "name": "stdout",
     "output_type": "stream",
     "text": [
      "time: 5min 40s\n"
     ]
    }
   ],
   "source": [
    "Xtr_tfidf, Xte_tfidf = Extractor(Xtr_text, Xte_text)\\\n",
    "        .bind(curry(emoji_tagging))\\\n",
    "        .bind(curry(remove_stop_words))\\\n",
    "        .bind(curry(lemmatizing))\\\n",
    "        .bind(curry(negation_handling))\\\n",
    "        .bind(curry(clean_text))\\\n",
    "        .bind(extract_tf(\n",
    "                ngram_range=ngram_range,\n",
    "                min_df=min_df,\n",
    "                max_df=max_df)\n",
    "             )\\\n",
    "        .bind(extract_tf_idf)\\\n",
    "        .bind(k_best(Ytr, Yte, n_features))\\\n",
    "        .get_features()"
   ]
  },
  {
   "cell_type": "code",
   "execution_count": 39,
   "metadata": {},
   "outputs": [
    {
     "name": "stdout",
     "output_type": "stream",
     "text": [
      "time: 5min 53s\n"
     ]
    }
   ],
   "source": [
    "Xtr_tf, Xte_tf = Extractor(Xtr_text, Xte_text)\\\n",
    "        .bind(curry(emoji_tagging))\\\n",
    "        .bind(curry(remove_stop_words))\\\n",
    "        .bind(curry(lemmatizing))\\\n",
    "        .bind(curry(negation_handling))\\\n",
    "        .bind(curry(clean_text))\\\n",
    "        .bind(extract_tf(\n",
    "                ngram_range=ngram_range,\n",
    "                min_df=min_df,\n",
    "                max_df=max_df)\n",
    "             )\\\n",
    "        .bind(k_best(Ytr, Yte, n_features))\\\n",
    "        .get_features()"
   ]
  },
  {
   "cell_type": "code",
   "execution_count": 38,
   "metadata": {},
   "outputs": [
    {
     "name": "stdout",
     "output_type": "stream",
     "text": [
      "time: 7min 15s\n"
     ]
    }
   ],
   "source": [
    "Xtr_sent, Xte_sent  = Extractor(Xtr_text, Xte_text)\\\n",
    "        .bind(curry(emoji_tagging))\\\n",
    "        .bind(curry(remove_stop_words))\\\n",
    "        .bind(curry(lemmatizing))\\\n",
    "        .bind(curry(negation_handling))\\\n",
    "        .bind(curry(clean_text))\\\n",
    "        .bind(extract_sentiment)\\\n",
    "        .get_features()"
   ]
  },
  {
   "cell_type": "code",
   "execution_count": 41,
   "metadata": {},
   "outputs": [
    {
     "name": "stdout",
     "output_type": "stream",
     "text": [
      "time: 11.1 ms\n"
     ]
    }
   ],
   "source": [
    "def run_classifier(learner, Xtr, Ytr, Xte, Yte):\n",
    "    classifier.fit(Xtr, Ytr)\n",
    "    Yte_hat = classifier.predict(Xte)\n",
    "\n",
    "    f1 = f1_score(Yte, Yte_hat)\n",
    "    p = precision_score(Yte, Yte_hat)\n",
    "    r = recall_score(Yte, Yte_hat)\n",
    "    return [f1, p, r]"
   ]
  },
  {
   "cell_type": "code",
   "execution_count": 46,
   "metadata": {},
   "outputs": [
    {
     "name": "stderr",
     "output_type": "stream",
     "text": [
      "/usr/local/lib/python3.7/site-packages/sklearn/linear_model/logistic.py:758: ConvergenceWarning: lbfgs failed to converge. Increase the number of iterations.\n",
      "  \"of iterations.\", ConvergenceWarning)\n"
     ]
    },
    {
     "name": "stdout",
     "output_type": "stream",
     "text": [
      "time: 1.69 s\n"
     ]
    }
   ],
   "source": [
    "classifier = LogisticRegression(solver='lbfgs')\n",
    "score_tf = run_classifier(classifier, Xtr_tf, Ytr, Xte_tf, Yte)\n",
    "score_tfidf = run_classifier(classifier, Xtr_tfidf, Ytr, Xte_tfidf, Yte)\n",
    "score_sent = run_classifier(classifier, Xtr_sent, Ytr, Xte_sent, Yte)"
   ]
  },
  {
   "cell_type": "code",
   "execution_count": 47,
   "metadata": {},
   "outputs": [
    {
     "name": "stdout",
     "output_type": "stream",
     "text": [
      "[0.8675389710039578, 0.875958244984505, 0.85928]\n",
      "[0.8856641683941956, 0.8827082008900191, 0.88864]\n",
      "[0.7188135390503528, 0.7164428196773425, 0.7212]\n",
      "time: 9.05 ms\n"
     ]
    }
   ],
   "source": [
    "print(score_tf)\n",
    "print(score_tfidf)\n",
    "print(score_sent)"
   ]
  },
  {
   "cell_type": "code",
   "execution_count": null,
   "metadata": {},
   "outputs": [],
   "source": []
  }
 ],
 "metadata": {
  "kernelspec": {
   "display_name": "Python 3",
   "language": "python",
   "name": "python3"
  },
  "language_info": {
   "codemirror_mode": {
    "name": "ipython",
    "version": 3
   },
   "file_extension": ".py",
   "mimetype": "text/x-python",
   "name": "python",
   "nbconvert_exporter": "python",
   "pygments_lexer": "ipython3",
   "version": "3.7.1"
  }
 },
 "nbformat": 4,
 "nbformat_minor": 2
}
