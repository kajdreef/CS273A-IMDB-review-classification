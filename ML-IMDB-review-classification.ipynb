{
 "cells": [
  {
   "cell_type": "code",
   "execution_count": null,
   "metadata": {},
   "outputs": [],
   "source": [
    "import numpy as np\n",
    "from pprint import pprint\n",
    "from sklearn.datasets import load_svmlight_file\n",
    "from sklearn.feature_extraction.text import TfidfTransformer\n",
    "from sklearn.decomposition import TruncatedSVD\n",
    "\n",
    "from sklearn.cluster import KMeans, MiniBatchKMeans\n",
    "from sklearn import metrics\n",
    "\n",
    "import matplotlib.pyplot as plt"
   ]
  },
  {
   "cell_type": "code",
   "execution_count": null,
   "metadata": {},
   "outputs": [],
   "source": [
    "# Xte, Yte, Xva, Yva = data_loader.load_train_data('./aclImdb/test/', 0.1)\n",
    "# Xtr = data_loader.load_test_data('./aclImdb/train/')\n",
    "\n",
    "# vocab = data_loader.load_vocab_dict('./aclImdb/imdb.vocab')"
   ]
  },
  {
   "cell_type": "code",
   "execution_count": null,
   "metadata": {},
   "outputs": [],
   "source": [
    "Xte, Yte = load_svmlight_file('./aclImdb/test/labeledBow.feat')\n",
    "Xtr, Ytr = load_svmlight_file('./aclImdb/train/labeledBow.feat')\n",
    "\n"
   ]
  },
  {
   "cell_type": "code",
   "execution_count": null,
   "metadata": {},
   "outputs": [],
   "source": [
    "print(Xte.shape)\n",
    "print(Xtr.shape)"
   ]
  },
  {
   "cell_type": "code",
   "execution_count": null,
   "metadata": {},
   "outputs": [],
   "source": [
    "# Converts Y from a multi-class to binary class\n",
    "Yte = np.array([1 if y > 5 else 0 for y in Yte])\n",
    "Ytr = np.array([1 if y > 5 else 0 for y in Ytr])"
   ]
  },
  {
   "cell_type": "code",
   "execution_count": null,
   "metadata": {},
   "outputs": [],
   "source": [
    "trunSVD = TruncatedSVD(n_components=2)\n",
    "data2D = trunSVD.fit_transform(Xtr);"
   ]
  },
  {
   "cell_type": "code",
   "execution_count": null,
   "metadata": {},
   "outputs": [],
   "source": [
    "plt.scatter(data2D[:,0], data2D[:,1], c=Yte, alpha=0.05)\n",
    "plt.show()"
   ]
  },
  {
   "cell_type": "code",
   "execution_count": null,
   "metadata": {},
   "outputs": [],
   "source": [
    "tf_transformer = TfidfTransformer()\n",
    "Xtr_tf_idf = tf_transformer.fit_transform(Xtr)\n",
    "Xte_tf_idf = tf_transformer.fit_transform(Xte)\n",
    "\n",
    "\n",
    "trunSVD = TruncatedSVD(n_components=2)\n",
    "data2D_tf_idf = trunSVD.fit_transform(Xtr_tf_idf);"
   ]
  },
  {
   "cell_type": "code",
   "execution_count": null,
   "metadata": {},
   "outputs": [],
   "source": [
    "plt.scatter(data2D_tf_idf[:,0], data2D_tf_idf[:,1], c=Yte, alpha=0.05)\n",
    "plt.show()"
   ]
  },
  {
   "cell_type": "markdown",
   "metadata": {},
   "source": [
    "## KMeans"
   ]
  },
  {
   "cell_type": "code",
   "execution_count": null,
   "metadata": {
    "scrolled": true
   },
   "outputs": [],
   "source": [
    "k = 2\n",
    "\n",
    "learner = KMeans(n_clusters=k, max_iter=100, n_jobs=2)\n",
    "learner.fit(Xtr_tf_idf)"
   ]
  },
  {
   "cell_type": "code",
   "execution_count": null,
   "metadata": {},
   "outputs": [],
   "source": [
    "Yhat_te = learner.fit_predict(Xte_tf_idf)\n",
    "\n",
    "fp, tp, thresholds = metrics.roc_curve(Yte, Yhat_te)\n",
    "print(metrics.auc(fp, tp))"
   ]
  },
  {
   "cell_type": "code",
   "execution_count": null,
   "metadata": {},
   "outputs": [],
   "source": [
    "k = 2\n",
    "\n",
    "learner = KMeans(n_clusters=k, max_iter=100, n_jobs=2)\n",
    "learner.fit(Xtr)\n",
    "Yhat_te = learner.fit_predict(Xte)\n",
    "\n",
    "fp, tp, thresholds = metrics.roc_curve(Yte, Yhat_te)\n",
    "print(metrics.auc(fp, tp))"
   ]
  },
  {
   "cell_type": "code",
   "execution_count": null,
   "metadata": {},
   "outputs": [],
   "source": [
    " "
   ]
  }
 ],
 "metadata": {
  "kernelspec": {
   "display_name": "Python 3",
   "language": "python",
   "name": "python3"
  },
  "language_info": {
   "codemirror_mode": {
    "name": "ipython",
    "version": 3
   },
   "file_extension": ".py",
   "mimetype": "text/x-python",
   "name": "python",
   "nbconvert_exporter": "python",
   "pygments_lexer": "ipython3",
   "version": "3.7.1"
  }
 },
 "nbformat": 4,
 "nbformat_minor": 2
}
